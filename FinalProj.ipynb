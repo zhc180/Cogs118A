{
  "nbformat": 4,
  "nbformat_minor": 0,
  "metadata": {
    "colab": {
      "name": "FinalProj.ipynb",
      "version": "0.3.2",
      "provenance": [],
      "private_outputs": true,
      "collapsed_sections": []
    },
    "kernelspec": {
      "name": "python3",
      "display_name": "Python 3"
    },
    "accelerator": "GPU"
  },
  "cells": [
    {
      "metadata": {
        "id": "HE_q6RUnpAvb",
        "colab_type": "code",
        "colab": {}
      },
      "cell_type": "code",
      "source": [
        "# import packages\n",
        "import numpy as np\n",
        "import pandas as pd\n",
        "from sklearn.neighbors import KNeighborsClassifier\n",
        "from sklearn.model_selection import GridSearchCV, train_test_split, RandomizedSearchCV\n",
        "from sklearn.ensemble import RandomForestClassifier, AdaBoostClassifier\n",
        "from sklearn.preprocessing import LabelEncoder\n",
        "import warnings\n",
        "warnings.filterwarnings(\"ignore\", category=DeprecationWarning)\n",
        "warnings.filterwarnings(\"ignore\", category=FutureWarning)"
      ],
      "execution_count": 0,
      "outputs": []
    },
    {
      "metadata": {
        "id": "d_Krx0LxpF_V",
        "colab_type": "code",
        "colab": {}
      },
      "cell_type": "code",
      "source": [
        "from google.colab import drive\n",
        "drive.mount('/content/drive')"
      ],
      "execution_count": 0,
      "outputs": []
    },
    {
      "metadata": {
        "id": "3KJapxJypAvf",
        "colab_type": "text"
      },
      "cell_type": "markdown",
      "source": [
        "## Data Loading"
      ]
    },
    {
      "metadata": {
        "id": "cBMNeYtApAvg",
        "colab_type": "code",
        "colab": {}
      },
      "cell_type": "code",
      "source": [
        "df_adult = pd.read_csv('/content/drive/My Drive/Colab/adult.csv', header=None)\n",
        "df_adult.head()"
      ],
      "execution_count": 0,
      "outputs": []
    },
    {
      "metadata": {
        "id": "SqAhIwFnpAvm",
        "colab_type": "code",
        "colab": {}
      },
      "cell_type": "code",
      "source": [
        "df_bank = pd.read_csv('/content/drive/My Drive/Colab/bank_note.csv', header=None)\n",
        "df_bank.head()"
      ],
      "execution_count": 0,
      "outputs": []
    },
    {
      "metadata": {
        "id": "fYXM-VdFpAvp",
        "colab_type": "code",
        "colab": {}
      },
      "cell_type": "code",
      "source": [
        "df_car = pd.read_csv('/content/drive/My Drive/Colab/car.csv', header=None)\n",
        "df_car.head()"
      ],
      "execution_count": 0,
      "outputs": []
    },
    {
      "metadata": {
        "id": "N39wB6xSpAvs",
        "colab_type": "text"
      },
      "cell_type": "markdown",
      "source": [
        "## Data cleaning"
      ]
    },
    {
      "metadata": {
        "id": "OHtuhmj0pAvt",
        "colab_type": "code",
        "colab": {}
      },
      "cell_type": "code",
      "source": [
        "# # replace label\n",
        "# df_adult[14].replace([' <=50K', ' >50K'], [0, 1], inplace=True)\n",
        "# # one hot encode\n",
        "# df_adult = pd.get_dummies(df_adult, columns=[1, 3, 5, 6, 7, 8, 9, 13])\n",
        "# # put label column to the end\n",
        "# label = df_adult.pop(14)\n",
        "# df_adult[14] = label\n",
        "\n",
        "# label encode the label\n",
        "enc = LabelEncoder()\n",
        "df_adult = df_adult.apply(enc.fit_transform)\n",
        "# convert to np array\n",
        "adult_XandY = df_adult.values\n",
        "df_adult.head()"
      ],
      "execution_count": 0,
      "outputs": []
    },
    {
      "metadata": {
        "id": "f_FTKScgpAvv",
        "colab_type": "code",
        "colab": {}
      },
      "cell_type": "code",
      "source": [
        "# convert to np array\n",
        "bank_XandY = df_bank.values"
      ],
      "execution_count": 0,
      "outputs": []
    },
    {
      "metadata": {
        "id": "dHC5Nf96pAvx",
        "colab_type": "code",
        "colab": {}
      },
      "cell_type": "code",
      "source": [
        "# encode the categorical data\n",
        "enc = LabelEncoder()\n",
        "df_car = df_car.apply(enc.fit_transform)\n",
        "# convert to np array\n",
        "car_XandY = df_car.values"
      ],
      "execution_count": 0,
      "outputs": []
    },
    {
      "metadata": {
        "id": "umC2gc_spAv0",
        "colab_type": "text"
      },
      "cell_type": "markdown",
      "source": [
        "## Parameter tuning"
      ]
    },
    {
      "metadata": {
        "id": "xVEl9uvapAv2",
        "colab_type": "code",
        "colab": {}
      },
      "cell_type": "code",
      "source": [
        "def CV(X, Y, model, nfolds = 3):\n",
        "    if model == 'KNN':\n",
        "        param_grid = {'n_neighbors':[int(x) for x in np.linspace(1, 180, num = 20)],\n",
        "                      'weights':['uniform', 'distance']}\n",
        "        grid_search = GridSearchCV(KNeighborsClassifier(), param_grid, cv=nfolds, n_jobs=-1)\n",
        "        grid_search.fit(X, Y)\n",
        "        return grid_search.best_estimator_, grid_search.best_params_\n",
        "    \n",
        "    if model == 'RF':\n",
        "        max_depth = [int(x) for x in np.linspace(10, 110, num = 11)]\n",
        "        max_depth.append(None)\n",
        "        param_grid = {'n_estimators': [int(x) for x in np.linspace(100, 500, num = 100)],\n",
        "                      'max_depth': max_depth,\n",
        "                      'max_features': ['auto', 'sqrt', 'log2']}\n",
        "        rnd_search = RandomizedSearchCV(RandomForestClassifier(), param_grid, cv=nfolds, n_jobs=-1)\n",
        "        rnd_search.fit(X, Y)\n",
        "        return rnd_search.best_estimator_, rnd_search.best_params_\n",
        "    \n",
        "    if model == 'BT':\n",
        "        param_grid = {'n_estimators': [20, 50, 100]}\n",
        "        grid_search = GridSearchCV(AdaBoostClassifier(), param_grid, cv=nfolds, n_jobs=-1)\n",
        "        grid_search.fit(X, Y)\n",
        "        return grid_search.best_estimator_, grid_search.best_params_"
      ],
      "execution_count": 0,
      "outputs": []
    },
    {
      "metadata": {
        "id": "vDWlY2w0pAv6",
        "colab_type": "text"
      },
      "cell_type": "markdown",
      "source": [
        "## Train models"
      ]
    },
    {
      "metadata": {
        "id": "4EVCUrUuLPis",
        "colab_type": "code",
        "colab": {}
      },
      "cell_type": "code",
      "source": [
        "def trainModel(X_train, X_test, Y_train, Y_test, model):\n",
        "    # search for best parameters\n",
        "    clf, params = CV(X_train, Y_train, model)\n",
        "    clf.fit(X_train, Y_train)\n",
        "    test_acc = clf.score(X_test, Y_test)\n",
        "    train_acc = clf.score(X_train, Y_train)\n",
        "    # print the result\n",
        "    print(params)\n",
        "    print('Training accuracy: %.3f'% train_acc)\n",
        "    print('Test accuracy: %.3f\\n'% test_acc)\n",
        "    return test_acc"
      ],
      "execution_count": 0,
      "outputs": []
    },
    {
      "metadata": {
        "id": "K78u25bApAv7",
        "colab_type": "code",
        "colab": {}
      },
      "cell_type": "code",
      "source": [
        "def trainAndTest(XandY):\n",
        "    X = XandY[:,:-1]\n",
        "    Y = XandY[:, -1]\n",
        "    for p in [0.2, 0.5, 0.8]:\n",
        "        print('With test size of:', p*100, '%')\n",
        "        avg_knn_acc = 0\n",
        "        avg_rf_acc = 0\n",
        "        avg_bt_acc = 0 \n",
        "        # do 3 trials\n",
        "        for i in range(3):\n",
        "            X_train, X_test, Y_train, Y_test = train_test_split(X, Y, random_state=1, test_size=p)\n",
        "            avg_knn_acc += trainModel(X_train, X_test, Y_train, Y_test, 'KNN')\n",
        "            avg_rf_acc += trainModel(X_train, X_test, Y_train, Y_test, 'RF')\n",
        "            avg_bt_acc += trainModel(X_train, X_test, Y_train, Y_test, 'BT')\n",
        "        avg_knn_acc /= 3\n",
        "        avg_rf_acc /= 3\n",
        "        avg_bt_acc /= 3\n",
        "        print('Average testing accuracy for model knn: %.3f'% avg_knn_acc)\n",
        "        print('Average testing accuracy for model random forest: %.3f'% avg_rf_acc)\n",
        "        print('Average testing accuracy for model adaBoost: %.3f'% avg_bt_acc)\n",
        "        print('============================================================\\n')"
      ],
      "execution_count": 0,
      "outputs": []
    },
    {
      "metadata": {
        "id": "IN_n6jPqpAv-",
        "colab_type": "text"
      },
      "cell_type": "markdown",
      "source": [
        "## Adult"
      ]
    },
    {
      "metadata": {
        "id": "aZrJ7btUpAv_",
        "colab_type": "code",
        "colab": {}
      },
      "cell_type": "code",
      "source": [
        "# train on adult dataset\n",
        "trainAndTest(adult_XandY)"
      ],
      "execution_count": 0,
      "outputs": []
    },
    {
      "metadata": {
        "id": "WONCXViCpAwH",
        "colab_type": "text"
      },
      "cell_type": "markdown",
      "source": [
        "## Car"
      ]
    },
    {
      "metadata": {
        "id": "Z3NjupaZpAwI",
        "colab_type": "code",
        "colab": {}
      },
      "cell_type": "code",
      "source": [
        "# train on car dataset\n",
        "trainAndTest(car_XandY)"
      ],
      "execution_count": 0,
      "outputs": []
    },
    {
      "metadata": {
        "id": "LKJoL0zGpAwQ",
        "colab_type": "text"
      },
      "cell_type": "markdown",
      "source": [
        "## bank"
      ]
    },
    {
      "metadata": {
        "id": "Ts_1zSfSpAwT",
        "colab_type": "code",
        "colab": {}
      },
      "cell_type": "code",
      "source": [
        "# train on bank dataset\n",
        "trainAndTest(bank_XandY)"
      ],
      "execution_count": 0,
      "outputs": []
    }
  ]
}